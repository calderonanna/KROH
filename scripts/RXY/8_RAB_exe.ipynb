{
 "cells": [
  {
   "cell_type": "markdown",
   "id": "065cb747",
   "metadata": {},
   "source": [
    "# $R_{AB}$ Executable"
   ]
  },
  {
   "cell_type": "markdown",
   "id": "346ae9ca",
   "metadata": {},
   "source": [
    "## Run Script\n",
    "- An example of how to run RABmafs.py.\n",
    "- Package requirements: pandas\n",
    "\n",
    "`/usr/bin/python3 ./RABmafs.py --popA_mut_sites file1.maf --popB_mut_sites file2.maf --popA_int_sites file3.maf --popB_int_sites file4.maf`"
   ]
  },
  {
   "cell_type": "markdown",
   "id": "ffe2e10c",
   "metadata": {},
   "source": [
    "## RABmafs()\n",
    "- First checks file extensions are correct.\n",
    "- Imports Data.\n",
    "- Checks that popA and popB have identical mutational and intergenic sites.\n",
    "- Given that sites are identical, parses the \"KnownEM\" column into separate vectors.\n",
    "- Calculates LAB, LBA, and returns RAB. "
   ]
  },
  {
   "cell_type": "code",
   "execution_count": 12,
   "id": "3e5ab95a",
   "metadata": {},
   "outputs": [
    {
     "name": "stderr",
     "output_type": "stream",
     "text": [
      "usage: ipykernel_launcher.py [-h] --popA_mut_sites POPA_MUT_SITES\n",
      "                             --popB_mut_sites POPB_MUT_SITES --popA_int_sites\n",
      "                             POPA_INT_SITES --popB_int_sites POPB_INT_SITES\n",
      "ipykernel_launcher.py: error: the following arguments are required: --popA_mut_sites, --popB_mut_sites, --popA_int_sites, --popB_int_sites\n"
     ]
    },
    {
     "ename": "SystemExit",
     "evalue": "2",
     "output_type": "error",
     "traceback": [
      "An exception has occurred, use %tb to see the full traceback.\n",
      "\u001b[0;31mSystemExit\u001b[0m\u001b[0;31m:\u001b[0m 2\n"
     ]
    },
    {
     "name": "stderr",
     "output_type": "stream",
     "text": [
      "/Users/annamariacalderon/Library/Python/3.9/lib/python/site-packages/IPython/core/interactiveshell.py:3558: UserWarning: To exit: use 'exit', 'quit', or Ctrl-D.\n",
      "  warn(\"To exit: use 'exit', 'quit', or Ctrl-D.\", stacklevel=1)\n"
     ]
    }
   ],
   "source": [
    "#!/usr/bin/env python3\n",
    "\n",
    "#Import Packages\n",
    "import pandas as pd\n",
    "import os\n",
    "import numpy as np\n",
    "import sys\n",
    "import argparse\n",
    "\n",
    "#Define RABmafs()\n",
    "def RABmafs(popA_mut_sites, popB_mut_sites,\n",
    "             popA_int_sites, popB_int_sites):\n",
    "    #Checks file extensions (files must end in .maf)\n",
    "    print(\"CHECKING FILE EXT...\")\n",
    "    f1 = popA_mut_sites.split(\".\")\n",
    "    if f1[-1] == \"gz\":\n",
    "        sys.exit(\"ERR: MAF file should be unzipped\")\n",
    "    f2 = popB_mut_sites.split(\".\")\n",
    "    if f2[-1] == \"gz\":\n",
    "        sys.exit(\"ERR: MAF file should be unzipped\")\n",
    "    f3 = popA_int_sites.split(\".\")\n",
    "    if f3[-1] == \"gz\":\n",
    "        sys.exit(\"ERR: MAF file should be unzipped\")\n",
    "    f4 = popB_int_sites.split(\".\")\n",
    "    if f4[-1] == \"gz\":\n",
    "        sys.exit(\"ERR: MAF file should be unzipped\")\n",
    "    print('DONE')\n",
    "\n",
    "    #Imports Data\n",
    "    print(\"IMPORTING DATA...\")\n",
    "    popA_mut = pd.read_csv(popA_mut_sites, sep='\\t', header=(0))\n",
    "    popB_mut = pd.read_csv(popB_mut_sites, sep='\\t', header=(0))\n",
    "    popA_int = pd.read_csv(popA_int_sites, sep='\\t', header=(0))\n",
    "    popB_int = pd.read_csv(popB_int_sites, sep='\\t', header=(0))\n",
    "    print(\"DONE\")\n",
    "\n",
    "    #Check Headers\n",
    "    print(\"CHECKING HEADERS...\")\n",
    "    if not {'chromo', 'position', 'knownEM'}.issubset(popA_mut.columns):\n",
    "        sys.exit(\"ERR: Check file headers\")\n",
    "    if not {'chromo', 'position', 'knownEM'}.issubset(popB_mut.columns):\n",
    "        sys.exit(\"ERR: Check file headers\")\n",
    "    if not {'chromo', 'position', 'knownEM'}.issubset(popA_int.columns):\n",
    "        sys.exit(\"ERR: Check file headers\")\n",
    "    if not {'chromo', 'position', 'knownEM'}.issubset(popB_int.columns):\n",
    "        sys.exit(\"ERR: Check file headers\")\n",
    "    else:\n",
    "        print(\"DONE\")\n",
    "    \n",
    "    #Checks Sites in PopA and PopB\n",
    "    print(\"CHECKING SITES...\")\n",
    "    popA_mut_keys = popA_mut['chromo'].astype(str) + \"_\" + popA_mut['position'].astype(str)\n",
    "    popB_mut_keys = popB_mut['chromo'].astype(str) + \"_\" + popB_mut['position'].astype(str)\n",
    "    popA_int_keys = popA_int['chromo'].astype(str) + \"_\" + popA_int['position'].astype(str)\n",
    "    popB_int_keys = popB_int['chromo'].astype(str) + \"_\" + popB_int['position'].astype(str)\n",
    "    \n",
    "    popA_mut_keys.equals(popB_mut_keys)\n",
    "    popA_int_keys.equals(popB_int_keys)\n",
    "\n",
    "    if len(popA_mut_keys)!= len(popB_mut_keys):\n",
    "        sys.exit(\"ERR: Number of mutational sites in popA must be identical to popB\")\n",
    "    if len(popA_int_keys)!= len(popB_int_keys):\n",
    "        sys.exit(\"ERR: Number of intergenic sites in popA must be identical to popB\")\n",
    "    if not popA_mut_keys.equals(popB_mut_keys):\n",
    "        sys.exit(\"ERR: Mutational sites in popA and popB must be identical.\")\n",
    "    if not popA_int_keys.equals(popB_int_keys):\n",
    "        sys.exit(\"ERR: Intergenic sites in popA and popB must be identical.\")\n",
    "    else:\n",
    "        print('DONE')\n",
    "    \n",
    "    #Parse Data\n",
    "    print(\"PARSING DATA...\")\n",
    "    f_AD = popA_mut['knownEM']\n",
    "    f_BD = popB_mut['knownEM']\n",
    "    f_AN = popA_int['knownEM']\n",
    "    f_BN = popB_int['knownEM']\n",
    "    print(\"DONE\")\n",
    "\n",
    "    #Calculate RAB\n",
    "    print(\"CALCULATING RAB\")\n",
    "    LAB = sum(f_AD*(1-f_BD))/sum(f_AN*(1-f_BN))\n",
    "    LBA = sum(f_BD*(1-f_AD))/sum(f_BN*(1-f_BN))\n",
    "    RAB = LAB/LBA\n",
    "    return print(\"RAB =\",RAB)\n",
    "\n",
    "#Argparse\n",
    "if __name__ == \"__main__\":\n",
    "    parser = argparse.ArgumentParser(description=\"Compute RAB from .maf site files.\")\n",
    "    parser.add_argument(\"--popA_mut_sites\", required=True, help=\"Pop A mutation sites (.maf)\")\n",
    "    parser.add_argument(\"--popB_mut_sites\", required=True, help=\"Pop B mutation sites (.maf)\")\n",
    "    parser.add_argument(\"--popA_int_sites\", required=True, help=\"Pop A intergenic sites (.maf)\")\n",
    "    parser.add_argument(\"--popB_int_sites\", required=True, help=\"Pop B intergenic sites (.maf)\")\n",
    "\n",
    "    args = parser.parse_args()\n",
    "\n",
    "#Run RABmafs() On Files Provided\n",
    "    RABmafs(args.popA_mut_sites, args.popB_mut_sites, args.popA_int_sites, args.popB_int_sites)"
   ]
  }
 ],
 "metadata": {
  "kernelspec": {
   "display_name": "Python 3",
   "language": "python",
   "name": "python3"
  },
  "language_info": {
   "codemirror_mode": {
    "name": "ipython",
    "version": 3
   },
   "file_extension": ".py",
   "mimetype": "text/x-python",
   "name": "python",
   "nbconvert_exporter": "python",
   "pygments_lexer": "ipython3",
   "version": "3.9.6"
  }
 },
 "nbformat": 4,
 "nbformat_minor": 5
}
