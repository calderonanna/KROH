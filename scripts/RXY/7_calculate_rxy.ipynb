{
 "cells": [
  {
   "cell_type": "markdown",
   "id": "581162ef",
   "metadata": {},
   "source": [
    "# Calculate $R_{AB}$"
   ]
  },
  {
   "cell_type": "markdown",
   "id": "065cb747",
   "metadata": {},
   "source": [
    "## Set up"
   ]
  },
  {
   "cell_type": "code",
   "execution_count": 55,
   "id": "3e5ab95a",
   "metadata": {},
   "outputs": [],
   "source": [
    "#Import Packages\n",
    "import pandas as pd\n",
    "import os\n",
    "import numpy as np\n",
    "\n",
    "#Set Working Directory\n",
    "os.chdir('/Users/annamariacalderon/Desktop/')\n",
    "\n",
    "#Set Variables\n",
    "popA_mutation_sites = 'hKIWA_der_lossoffunction.maf'\n",
    "popB_mutation_sites = 'cKIWA_der_lossoffunction.maf'\n",
    "popA_intergenic_sites = 'hKIWA_der_intergenic1.maf'\n",
    "popB_intergenic_sites = 'cKIWA_der_intergenic1.maf'\n",
    "\n",
    "\n",
    "#Import Data\n",
    "popA_mut = pd.read_csv(popA_mutation_sites, sep='\\t', header=(0))\n",
    "popB_mut = pd.read_csv(popB_mutation_sites, sep='\\t', header=(0))\n",
    "popA_int = pd.read_csv(popA_intergenic_sites, sep='\\t', header=(0))\n",
    "popB_int = pd.read_csv(popB_intergenic_sites, sep='\\t', header=(0))\n"
   ]
  },
  {
   "cell_type": "markdown",
   "id": "812a45f9",
   "metadata": {},
   "source": [
    "## Checkpoint\n",
    "Checks that popA and popB have identical sites. "
   ]
  },
  {
   "cell_type": "code",
   "execution_count": 56,
   "id": "354ae8aa",
   "metadata": {},
   "outputs": [
    {
     "data": {
      "text/plain": [
       "True"
      ]
     },
     "execution_count": 56,
     "metadata": {},
     "output_type": "execute_result"
    }
   ],
   "source": [
    "#Create Keys\n",
    "popA_mut_keys = popA_mut['chromo'].astype(str) + \"_\" + popA_mut['position'].astype(str)\n",
    "popB_mut_keys = popB_mut['chromo'].astype(str) + \"_\" + popB_mut['position'].astype(str)\n",
    "popA_int_keys = popA_int['chromo'].astype(str) + \"_\" + popA_int['position'].astype(str)\n",
    "popB_int_keys = popB_int['chromo'].astype(str) + \"_\" + popB_int['position'].astype(str)\n",
    "\n",
    "#Compare Keys\n",
    "popA_mut_keys.equals(popB_mut_keys)\n",
    "popA_int_keys.equals(popB_int_keys)"
   ]
  },
  {
   "cell_type": "markdown",
   "id": "82680327",
   "metadata": {},
   "source": [
    "## Parse Data\n",
    "Stores the KnownEM column in vectors."
   ]
  },
  {
   "cell_type": "code",
   "execution_count": 57,
   "id": "311dc9aa",
   "metadata": {},
   "outputs": [],
   "source": [
    "f_AD = popA_mut['knownEM']\n",
    "f_BD = popB_mut['knownEM']\n",
    "f_AN = popA_int['knownEM']\n",
    "f_BN = popB_int['knownEM']"
   ]
  },
  {
   "cell_type": "markdown",
   "id": "9713d313",
   "metadata": {},
   "source": [
    "## Calculate $L_{AB}$\n",
    "This sums the frequencies of a set of derived mutations (D) in popA relative to popB, and then normalizes by a set of intergenic sites (N) in popA relative to popB. \n",
    "$$\n",
    "    \\frac{\\sum\\limits_{i \\in D} f_i^A (1 - f_i^B)}\n",
    "    {\\sum\\limits_{j \\in N} f_j^A (1 - f_j^B)}\n",
    "$$"
   ]
  },
  {
   "cell_type": "code",
   "execution_count": 58,
   "id": "0141c629",
   "metadata": {},
   "outputs": [
    {
     "name": "stdout",
     "output_type": "stream",
     "text": [
      "0.0583142880875348\n"
     ]
    }
   ],
   "source": [
    "#Calculate Lab\n",
    "LAB = sum(f_AD*(1-f_BD))/sum(f_AN*(1-f_BN))\n",
    "print(LAB)"
   ]
  },
  {
   "cell_type": "markdown",
   "id": "31fdee9a",
   "metadata": {},
   "source": [
    "## Calculate $L_{BA}$\n",
    "This sums the frequencies of a set of derived mutations (D) in population b relative to population a, and then normalizes by a set of intergenic sites (N) in population b relative to population a. \n",
    "$$\n",
    "    \\frac{\\sum\\limits_{i \\in D} f_i^B (1 - f_i^A)}\n",
    "    {\\sum\\limits_{j \\in N} f_j^B (1 - f_j^A)}\n",
    "$$"
   ]
  },
  {
   "cell_type": "code",
   "execution_count": 59,
   "id": "eb863af5",
   "metadata": {},
   "outputs": [
    {
     "name": "stdout",
     "output_type": "stream",
     "text": [
      "0.24268178997850134\n"
     ]
    }
   ],
   "source": [
    "#Calculate Lba\n",
    "LBA = sum(f_BD*(1-f_AD))/sum(f_BN*(1-f_BN))\n",
    "print(LBA)"
   ]
  },
  {
   "cell_type": "markdown",
   "id": "36f581b6",
   "metadata": {},
   "source": [
    "## Calculate $R_{BA}$\n",
    "$R_{BA}$, then is a ratio of ratios\n",
    "$$\n",
    "    \\frac{L_{AB}}\n",
    "    {L_{BA}}\n",
    "$$"
   ]
  },
  {
   "cell_type": "code",
   "execution_count": 60,
   "id": "b645d491",
   "metadata": {},
   "outputs": [
    {
     "name": "stdout",
     "output_type": "stream",
     "text": [
      "0.24029115696196543\n"
     ]
    }
   ],
   "source": [
    "RAB=LAB/LBA\n",
    "print(RAB)"
   ]
  }
 ],
 "metadata": {
  "kernelspec": {
   "display_name": "base",
   "language": "python",
   "name": "python3"
  },
  "language_info": {
   "codemirror_mode": {
    "name": "ipython",
    "version": 3
   },
   "file_extension": ".py",
   "mimetype": "text/x-python",
   "name": "python",
   "nbconvert_exporter": "python",
   "pygments_lexer": "ipython3",
   "version": "3.9.16"
  }
 },
 "nbformat": 4,
 "nbformat_minor": 5
}
