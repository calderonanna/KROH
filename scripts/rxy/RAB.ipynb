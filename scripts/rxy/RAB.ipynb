{
 "cells": [
  {
   "cell_type": "code",
   "execution_count": 48,
   "id": "6280aae6",
   "metadata": {},
   "outputs": [],
   "source": [
    "#Import Packages\n",
    "import pandas as pd\n",
    "import os\n",
    "import numpy as np\n",
    "import sys\n",
    "import argparse\n",
    "\n",
    "#Imports Data\n",
    "os.chdir('/Users/abc6435/Desktop')\n",
    "\n",
    "popA_der = pd.read_csv('hKIWA_derived.maf',\n",
    "                        sep='\\t', header=(0))\n",
    "popB_der = pd.read_csv('cKIWA_derived.maf',\n",
    "                        sep='\\t', header=(0))\n",
    "intergenic = pd.read_csv('4fold.txt',\n",
    "                         sep='\\t', header=(0))\n",
    "mutation = pd.read_csv('deleterious.txt',\n",
    "                       sep='\\t', header=(0))\n",
    "\n",
    "#Parse Data\n",
    "derived = pd.merge(popA_der,popB_der,\n",
    "                   on=['chromo','position','major','minor','ref'],\n",
    "                   how='inner')\n",
    "inter_merged = pd.merge(derived,intergenic, on=['chromo','position'],\n",
    "                   how='outer', indicator=True)\n",
    "mut_merged = pd.merge(derived,mutation, on=['chromo','position'],\n",
    "                   how='outer', indicator=True)\n",
    "\n",
    "inter_der = inter_merged[inter_merged['_merge']=='both'].drop(columns=['_merge'])\n",
    "mut_der = mut_merged[mut_merged['_merge']=='both'].drop(columns=['_merge'])"
   ]
  },
  {
   "cell_type": "code",
   "execution_count": 49,
   "id": "821710a3",
   "metadata": {},
   "outputs": [
    {
     "name": "stdout",
     "output_type": "stream",
     "text": [
      "RAB =  0.16957945984565959\n"
     ]
    }
   ],
   "source": [
    "#Calculate RAB\n",
    "#set1\n",
    "np.random.seed(678)\n",
    "index1=np.random.permutation(len(inter_der))[:10000]\n",
    "inter1=inter_der.iloc[index1]\n",
    "\n",
    "# #set2\n",
    "# np.random.seed(4648)\n",
    "# index2=np.random.permutation(len(mut_der))[:10000]\n",
    "# inter2=mut_der.iloc[index2]\n",
    "\n",
    "#Calculate RAB\n",
    "f_AD = mut_der['knownEM_x']\n",
    "f_BD = mut_der['knownEM_y']\n",
    "f_AN = inter1['knownEM_x']\n",
    "f_BN = inter1['knownEM_y']\n",
    "\n",
    "LAB = sum(f_AD*(1-f_BD))/sum(f_AN*(1-f_BN))\n",
    "LBA = sum(f_BD*(1-f_AD))/sum(f_BN*(1-f_AN))\n",
    "RAB = LAB/LBA\n",
    "print(\"RAB = \", RAB)\n"
   ]
  },
  {
   "cell_type": "code",
   "execution_count": 50,
   "id": "72143437",
   "metadata": {},
   "outputs": [
    {
     "name": "stdout",
     "output_type": "stream",
     "text": [
      "2.5% = 0.16388915280158556\n",
      "97.5% = 0.17824630617852474\n",
      "mean = 0.17056466620605235\n"
     ]
    }
   ],
   "source": [
    "jx=[]\n",
    "for i in range(100):\n",
    "    #10K Intergenic Derived Sites\n",
    "    Nsites=int(round(len(mut_der)*.30))\n",
    "    index=np.random.permutation(len(mut_der))[:Nsites]\n",
    "    mut_sub=mut_der.iloc[index]\n",
    "\n",
    "    #Calculate RAB\n",
    "    f_AD = mut_sub['knownEM_x']\n",
    "    f_BD = mut_sub['knownEM_y']\n",
    "    f_AN = inter1['knownEM_x']\n",
    "    f_BN = inter1['knownEM_y']\n",
    "\n",
    "    LAB = sum(f_AD*(1-f_BD))/sum(f_AN*(1-f_BN))\n",
    "    LBA = sum(f_BD*(1-f_AD))/sum(f_BN*(1-f_AN))\n",
    "    RAB = LAB/LBA\n",
    "    jx.append(RAB)\n",
    "    \n",
    "jx_array = np.array(jx)\n",
    "q025, q975 = np.percentile(jx_array, [2.5, 97.5])\n",
    "avg = np.mean(jx_array)\n",
    "\n",
    "print(\"2.5% =\", q025)\n",
    "print(\"97.5% =\", q975)\n",
    "print(\"mean =\", avg)"
   ]
  }
 ],
 "metadata": {
  "kernelspec": {
   "display_name": "base",
   "language": "python",
   "name": "python3"
  },
  "language_info": {
   "codemirror_mode": {
    "name": "ipython",
    "version": 3
   },
   "file_extension": ".py",
   "mimetype": "text/x-python",
   "name": "python",
   "nbconvert_exporter": "python",
   "pygments_lexer": "ipython3",
   "version": "3.9.7"
  }
 },
 "nbformat": 4,
 "nbformat_minor": 5
}
