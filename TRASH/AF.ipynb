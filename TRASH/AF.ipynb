{
 "cells": [
  {
   "cell_type": "markdown",
   "id": "917fa516",
   "metadata": {},
   "source": [
    "# Allele Frequencies"
   ]
  },
  {
   "cell_type": "code",
   "execution_count": 6,
   "id": "fed5e8fb",
   "metadata": {},
   "outputs": [],
   "source": [
    "#Import Packages\n",
    "import pandas as pd\n",
    "import os\n",
    "import numpy as np\n",
    "import sys\n",
    "import argparse\n",
    "\n",
    "#Imports Data\n",
    "os.chdir('/Users/annamariacalderon/Desktop/downsampled_data')\n",
    "\n",
    "hKIWA = pd.read_csv('hKIWA_derived.maf', sep='\\t', header=(0))\n",
    "cKIWA = pd.read_csv('cKIWA_derived.maf', sep='\\t', header=(0))\n",
    "lof = pd.read_csv('lossoffunction.txt', sep='\\t', header=(0))\n",
    "dele = pd.read_csv('deleterious.txt', sep='\\t', header=(0))\n",
    "tol = pd.read_csv('tolerated.txt', sep='\\t', header=(0))\n",
    "syn = pd.read_csv('synonymous.txt', sep='\\t', header=(0))\n",
    "nonsyn = pd.read_csv('nonsynonymous.txt', sep='\\t', header=(0))\n",
    "noncode = pd.read_csv('noncoding.txt', sep='\\t', header=(0))\n",
    "inter = pd.read_csv('intergenic5M_set1.txt', sep='\\t', header=(0))\n",
    "\n",
    "#Merge\n",
    "der = pd.merge(hKIWA,cKIWA, on=['chromo','position', 'major', 'minor', 'ref'], how='inner')\n",
    "lof = pd.merge(der,lof, on=['chromo','position'], how='inner')\n",
    "dele = pd.merge(der,dele, on=['chromo','position'], how='inner')\n",
    "tol = pd.merge(der,tol, on=['chromo','position'], how='inner')\n",
    "syn = pd.merge(der,syn, on=['chromo','position'], how='inner')\n",
    "nonsyn = pd.merge(der,nonsyn, on=['chromo','position'], how='inner')\n",
    "noncode = pd.merge(der,noncode, on=['chromo','position'], how='inner')\n",
    "inter = pd.merge(der,inter, on=['chromo','position'], how='inner')\n"
   ]
  },
  {
   "cell_type": "code",
   "execution_count": 23,
   "id": "24577f42",
   "metadata": {},
   "outputs": [
    {
     "data": {
      "text/plain": [
       "(array([1844680,  169337,  138576,   74867,   60194]),\n",
       " array([0. , 0.1, 0.2, 0.3, 0.4, 0.5]))"
      ]
     },
     "execution_count": 23,
     "metadata": {},
     "output_type": "execute_result"
    }
   ],
   "source": [
    "#Frequency Tables\n",
    "np.histogram(inter['knownEM_y'], bins=[0, .1, .2, .3, .4, .5])"
   ]
  },
  {
   "cell_type": "code",
   "execution_count": 8,
   "id": "2627aa0c",
   "metadata": {},
   "outputs": [
    {
     "data": {
      "text/html": [
       "<div>\n",
       "<style scoped>\n",
       "    .dataframe tbody tr th:only-of-type {\n",
       "        vertical-align: middle;\n",
       "    }\n",
       "\n",
       "    .dataframe tbody tr th {\n",
       "        vertical-align: top;\n",
       "    }\n",
       "\n",
       "    .dataframe thead th {\n",
       "        text-align: right;\n",
       "    }\n",
       "</style>\n",
       "<table border=\"1\" class=\"dataframe\">\n",
       "  <thead>\n",
       "    <tr style=\"text-align: right;\">\n",
       "      <th></th>\n",
       "      <th>chromo</th>\n",
       "      <th>position</th>\n",
       "      <th>major</th>\n",
       "      <th>minor</th>\n",
       "      <th>ref</th>\n",
       "      <th>knownEM_x</th>\n",
       "      <th>nInd_x</th>\n",
       "      <th>knownEM_y</th>\n",
       "      <th>nInd_y</th>\n",
       "    </tr>\n",
       "  </thead>\n",
       "  <tbody>\n",
       "    <tr>\n",
       "      <th>0</th>\n",
       "      <td>chr1</td>\n",
       "      <td>104</td>\n",
       "      <td>T</td>\n",
       "      <td>C</td>\n",
       "      <td>T</td>\n",
       "      <td>0.256024</td>\n",
       "      <td>4</td>\n",
       "      <td>0.131822</td>\n",
       "      <td>7</td>\n",
       "    </tr>\n",
       "    <tr>\n",
       "      <th>1</th>\n",
       "      <td>chr1</td>\n",
       "      <td>3243</td>\n",
       "      <td>G</td>\n",
       "      <td>A</td>\n",
       "      <td>G</td>\n",
       "      <td>0.292799</td>\n",
       "      <td>2</td>\n",
       "      <td>0.000006</td>\n",
       "      <td>5</td>\n",
       "    </tr>\n",
       "    <tr>\n",
       "      <th>2</th>\n",
       "      <td>chr1</td>\n",
       "      <td>4981</td>\n",
       "      <td>G</td>\n",
       "      <td>A</td>\n",
       "      <td>G</td>\n",
       "      <td>0.084020</td>\n",
       "      <td>6</td>\n",
       "      <td>0.000000</td>\n",
       "      <td>7</td>\n",
       "    </tr>\n",
       "    <tr>\n",
       "      <th>3</th>\n",
       "      <td>chr1</td>\n",
       "      <td>5194</td>\n",
       "      <td>G</td>\n",
       "      <td>A</td>\n",
       "      <td>G</td>\n",
       "      <td>0.121190</td>\n",
       "      <td>5</td>\n",
       "      <td>0.000000</td>\n",
       "      <td>7</td>\n",
       "    </tr>\n",
       "    <tr>\n",
       "      <th>4</th>\n",
       "      <td>chr1</td>\n",
       "      <td>5230</td>\n",
       "      <td>G</td>\n",
       "      <td>A</td>\n",
       "      <td>G</td>\n",
       "      <td>0.000001</td>\n",
       "      <td>5</td>\n",
       "      <td>0.069494</td>\n",
       "      <td>7</td>\n",
       "    </tr>\n",
       "  </tbody>\n",
       "</table>\n",
       "</div>"
      ],
      "text/plain": [
       "  chromo  position major minor ref  knownEM_x  nInd_x  knownEM_y  nInd_y\n",
       "0   chr1       104     T     C   T   0.256024       4   0.131822       7\n",
       "1   chr1      3243     G     A   G   0.292799       2   0.000006       5\n",
       "2   chr1      4981     G     A   G   0.084020       6   0.000000       7\n",
       "3   chr1      5194     G     A   G   0.121190       5   0.000000       7\n",
       "4   chr1      5230     G     A   G   0.000001       5   0.069494       7"
      ]
     },
     "execution_count": 8,
     "metadata": {},
     "output_type": "execute_result"
    }
   ],
   "source": [
    "inter.head()"
   ]
  }
 ],
 "metadata": {
  "kernelspec": {
   "display_name": "Python 3",
   "language": "python",
   "name": "python3"
  },
  "language_info": {
   "codemirror_mode": {
    "name": "ipython",
    "version": 3
   },
   "file_extension": ".py",
   "mimetype": "text/x-python",
   "name": "python",
   "nbconvert_exporter": "python",
   "pygments_lexer": "ipython3",
   "version": "3.9.6"
  }
 },
 "nbformat": 4,
 "nbformat_minor": 5
}
